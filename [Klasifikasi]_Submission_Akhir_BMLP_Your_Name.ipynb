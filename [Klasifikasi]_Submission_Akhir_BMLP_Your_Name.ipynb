{
  "nbformat": 4,
  "nbformat_minor": 0,
  "metadata": {
    "colab": {
      "provenance": [],
      "gpuType": "V28"
    },
    "kernelspec": {
      "name": "python3",
      "display_name": "Python 3"
    },
    "language_info": {
      "name": "python"
    },
    "accelerator": "TPU"
  },
  "cells": [
    {
      "cell_type": "markdown",
      "source": [
        "# **1. Import Library**"
      ],
      "metadata": {
        "id": "fKADPWcFKlj3"
      }
    },
    {
      "cell_type": "markdown",
      "source": [
        "Pada tahap ini, Anda perlu mengimpor beberapa pustaka (library) Python yang dibutuhkan untuk analisis data dan pembangunan model machine learning."
      ],
      "metadata": {
        "id": "LgA3ERnVn84N"
      }
    },
    {
      "cell_type": "code",
      "source": [
        "import pandas as pd\n",
        "import numpy as np\n",
        "import matplotlib.pyplot as plt\n",
        "import seaborn as sns\n",
        "from sklearn.preprocessing import StandardScaler, LabelEncoder\n",
        "from sklearn.model_selection import train_test_split\n",
        "from sklearn.ensemble import RandomForestClassifier\n",
        "from sklearn.tree import DecisionTreeClassifier\n",
        "from sklearn.metrics import accuracy_score, classification_report, confusion_matrix\n",
        "from sklearn.model_selection import GridSearchCV"
      ],
      "metadata": {
        "id": "BlmvjLY9M4Yj"
      },
      "execution_count": 1,
      "outputs": []
    },
    {
      "cell_type": "markdown",
      "source": [
        "# **2. Memuat Dataset dari Hasil Clustering**"
      ],
      "metadata": {
        "id": "f3YIEnAFKrKL"
      }
    },
    {
      "cell_type": "markdown",
      "source": [
        "Memuat dataset hasil clustering dari file CSV ke dalam variabel DataFrame."
      ],
      "metadata": {
        "id": "Ey3ItwTen_7E"
      }
    },
    {
      "cell_type": "code",
      "source": [
        "#Type your code here\n",
        "data = pd.read_csv('https://raw.githubusercontent.com/ftthalmhdi/depression/refs/heads/main/Dataset_clustering.csv')"
      ],
      "metadata": {
        "id": "GHCGNTyrM5fS"
      },
      "execution_count": 2,
      "outputs": []
    },
    {
      "cell_type": "markdown",
      "source": [
        "# **3. Data Splitting**"
      ],
      "metadata": {
        "id": "KkPem5eWL2UP"
      }
    },
    {
      "cell_type": "markdown",
      "source": [
        "Tahap Data Splitting bertujuan untuk memisahkan dataset menjadi dua bagian: data latih (training set) dan data uji (test set)."
      ],
      "metadata": {
        "id": "YYj1rl_JNI9Y"
      }
    },
    {
      "cell_type": "code",
      "source": [
        "data.rename(columns=lambda x: x.strip(), inplace=True)"
      ],
      "metadata": {
        "id": "OubAW-7ONKVj"
      },
      "execution_count": 3,
      "outputs": []
    },
    {
      "cell_type": "code",
      "source": [
        "categorical_X = data.select_dtypes(include=object).columns\n",
        "le = LabelEncoder()\n",
        "\n",
        "for col in categorical_X:\n",
        "  data[col] = le.fit_transform(data[col])\n",
        "\n",
        "y = data['Cluster']\n",
        "X = data.drop(columns=['Cluster'])\n",
        "\n",
        "label_encoder = LabelEncoder()\n",
        "for column in categorical_X:\n",
        "    data[column] = label_encoder.fit_transform(data[column])\n",
        "\n",
        "X_train, X_test, y_train, y_test = train_test_split(X,y,test_size=0.2,random_state=42)"
      ],
      "metadata": {
        "id": "iuH9VKtgdnXX"
      },
      "execution_count": 4,
      "outputs": []
    },
    {
      "cell_type": "code",
      "source": [
        "scaler = StandardScaler()\n",
        "X_train_scaled = scaler.fit_transform(X_train)\n",
        "X_test_scaled = scaler.fit_transform(X_test)"
      ],
      "metadata": {
        "id": "wQ0VxvAPePaP"
      },
      "execution_count": 5,
      "outputs": []
    },
    {
      "cell_type": "markdown",
      "source": [
        "# **4. Membangun Model Klasifikasi**\n"
      ],
      "metadata": {
        "id": "IVPbB03CMhTT"
      }
    },
    {
      "cell_type": "markdown",
      "source": [
        "## **a. Membangun Model Klasifikasi**"
      ],
      "metadata": {
        "id": "Ned1pL9zMmBK"
      }
    },
    {
      "cell_type": "markdown",
      "source": [
        "Setelah memilih algoritma klasifikasi yang sesuai, langkah selanjutnya adalah melatih model menggunakan data latih.\n",
        "\n",
        "Berikut adalah rekomendasi tahapannya.\n",
        "1. Pilih algoritma klasifikasi yang sesuai, seperti Logistic Regression, Decision Tree, Random Forest, atau K-Nearest Neighbors (KNN).\n",
        "2. Latih model menggunakan data latih."
      ],
      "metadata": {
        "id": "WAWzPOE4Nkti"
      }
    },
    {
      "cell_type": "code",
      "source": [
        "models = {\n",
        "    'Decision_Tree': DecisionTreeClassifier(random_state=42),\n",
        "    'Random_Forest' : RandomForestClassifier(random_state=42)\n",
        "}"
      ],
      "metadata": {
        "id": "4JYxBe87NLDk"
      },
      "execution_count": 6,
      "outputs": []
    },
    {
      "cell_type": "markdown",
      "source": [
        "- Decision Tree adalah algoritma machine learning yang digunakan untuk tugas klasifikasi dan regresi. Algoritma ini memiliki struktur menyerupai pohon, di mana setiap cabang merepresentasikan aturan atau keputusan berdasarkan fitur dalam data.\n",
        "- Random Forest adalah metode ensemble learning yang mengombinasikan banyak Decision Tree untuk meningkatkan akurasi prediksi sekaligus mengurangi kemungkinan overfitting. Setiap pohon dalam Random Forest dilatih menggunakan sampel acak dari data serta subset fitur yang dipilih secara acak. Prediksi akhir ditentukan melalui mekanisme voting (untuk klasifikasi) atau rata-rata (untuk regresi) dari seluruh pohon dalam model.\n"
      ],
      "metadata": {
        "id": "seYoHNY3XU1y"
      }
    },
    {
      "cell_type": "markdown",
      "source": [
        "## **b. Evaluasi Model Klasifikasi**"
      ],
      "metadata": {
        "id": "ergzChZFEL-O"
      }
    },
    {
      "cell_type": "markdown",
      "source": [
        "Berikut adalah **rekomendasi** tahapannya.\n",
        "1. Lakukan prediksi menggunakan data uji.\n",
        "2. Hitung metrik evaluasi seperti Accuracy dan F1-Score (Opsional: Precision dan Recall).\n",
        "3. Buat confusion matrix untuk melihat detail prediksi benar dan salah."
      ],
      "metadata": {
        "id": "zOm68u-7NpLT"
      }
    },
    {
      "cell_type": "code",
      "source": [
        "for name, model in models.items():\n",
        "    model.fit(X_train_scaled, y_train)\n",
        "    y_pred = model.predict(X_test_scaled)\n",
        "    print(f\"\\n{name} Model Performance:\")\n",
        "    print(\"Accuracy:\", accuracy_score(y_test, y_pred))\n",
        "    print(\"Classification Report:\\n\", classification_report(y_test, y_pred))\n",
        "    print(\"Confusion Matrix:\\n\", confusion_matrix(y_test, y_pred))"
      ],
      "metadata": {
        "id": "tMq4QAssNLip",
        "colab": {
          "base_uri": "https://localhost:8080/"
        },
        "outputId": "2b5e5757-791d-49fb-e7d7-2a33a8ac3739"
      },
      "execution_count": 7,
      "outputs": [
        {
          "output_type": "stream",
          "name": "stdout",
          "text": [
            "\n",
            "Decision_Tree Model Performance:\n",
            "Accuracy: 0.9768028240040343\n",
            "Classification Report:\n",
            "               precision    recall  f1-score   support\n",
            "\n",
            "         0.0       0.99      0.96      0.97       491\n",
            "         1.0       0.97      0.98      0.98       692\n",
            "         2.0       0.97      0.96      0.97       320\n",
            "         3.0       0.98      0.99      0.99       480\n",
            "\n",
            "    accuracy                           0.98      1983\n",
            "   macro avg       0.98      0.97      0.98      1983\n",
            "weighted avg       0.98      0.98      0.98      1983\n",
            "\n",
            "Confusion Matrix:\n",
            " [[472  18   1   0]\n",
            " [  4 681   5   2]\n",
            " [  3   4 307   6]\n",
            " [  0   0   3 477]]\n",
            "\n",
            "Random_Forest Model Performance:\n",
            "Accuracy: 0.9818456883509834\n",
            "Classification Report:\n",
            "               precision    recall  f1-score   support\n",
            "\n",
            "         0.0       1.00      0.98      0.99       491\n",
            "         1.0       0.97      0.98      0.98       692\n",
            "         2.0       0.99      0.96      0.98       320\n",
            "         3.0       0.97      1.00      0.98       480\n",
            "\n",
            "    accuracy                           0.98      1983\n",
            "   macro avg       0.98      0.98      0.98      1983\n",
            "weighted avg       0.98      0.98      0.98      1983\n",
            "\n",
            "Confusion Matrix:\n",
            " [[480  11   0   0]\n",
            " [  0 681   3   8]\n",
            " [  0   7 308   5]\n",
            " [  0   2   0 478]]\n"
          ]
        }
      ]
    },
    {
      "cell_type": "markdown",
      "source": [
        "## Decision Tree Performance\n",
        "- Accuracy: 0.9768 (97.68%)\n",
        "- Precision, Recall, F1-Score: Semua metrik berada di atas 0.96,menunjukkan performa yang sangat baik dalam memprediksi setiap kelas.\n",
        "- Confusion Matrix: Hanya terjadi beberapa kesalahan klasifikasi, dengan sebagian besar prediksi sesuai dengan kelas aslinya.\n",
        "\n",
        "## Random Forest Performance\n",
        "- Accuracy: 0.9818 (98.18%)\n",
        "Precision, Recall, F1-Score: Semua metrik di atas 0.97, sedikit lebih baik dibandingkan Decision Tree.\n",
        "- Confusion Matrix: Kesalahan klasifikasi lebih sedikit dibandingkan - Decision Tree, menunjukkan bahwa model ini lebih stabil dalam memprediksi kelas yang benar.\n",
        "\n",
        "### Kesimpulan\n",
        "Random Forest memiliki performa yang lebih baik dibandingkan Decision Tree, dengan akurasi dan metrik evaluasi yang lebih tinggi.Model memiliki potensi overfitting, karena tingkat akurasi yang sangat tinggi di data uji. Hal ini bisa terjadi karena model terlalu kompleks atau data latih dan uji memiliki pola yang sangat mirip.    Untuk menghindari overfitting, beberapa langkah yang dapat dilakukan:\n",
        "Tuning hyperparameter seperti jumlah pohon dalam Random Forest atau kedalaman maksimal Decision Tree.\n",
        "Menggunakan teknik validasi silang (cross-validation) untuk memastikan model tetap generalizable terhadap data baru.\n",
        "Menambah data atau melakukan augmentasi data untuk meningkatkan keberagaman dalam pelatihan model.\n",
        "\n",
        "Secara keseluruhan, Random Forest lebih unggul dibandingkan Decision Tree dalam hal akurasi dan stabilitas, namun perlu diperhatikan kemungkinan overfitting."
      ],
      "metadata": {
        "id": "H4_9OwrsXZlz"
      }
    },
    {
      "cell_type": "markdown",
      "source": [
        "## **c. Tuning Model Klasifikasi (Optional)**"
      ],
      "metadata": {
        "id": "ph9yIYDXEPuB"
      }
    },
    {
      "cell_type": "markdown",
      "source": [
        "Gunakan GridSearchCV, RandomizedSearchCV, atau metode lainnya untuk mencari kombinasi hyperparameter terbaik"
      ],
      "metadata": {
        "id": "-Bikx3LINv5e"
      }
    },
    {
      "cell_type": "code",
      "source": [
        "#Type your code here"
      ],
      "metadata": {
        "id": "winbFzb8NL95"
      },
      "execution_count": 8,
      "outputs": []
    },
    {
      "cell_type": "markdown",
      "source": [
        "## **d. Evaluasi Model Klasifikasi setelah Tuning (Optional)**"
      ],
      "metadata": {
        "id": "hE7pqlEPEYzI"
      }
    },
    {
      "cell_type": "markdown",
      "source": [
        "Berikut adalah rekomendasi tahapannya.\n",
        "1. Gunakan model dengan hyperparameter terbaik.\n",
        "2. Hitung ulang metrik evaluasi untuk melihat apakah ada peningkatan performa."
      ],
      "metadata": {
        "id": "feaPESoeN0zz"
      }
    },
    {
      "cell_type": "code",
      "source": [
        "#Type your code here"
      ],
      "metadata": {
        "id": "HTXZRvEeNMb1"
      },
      "execution_count": 9,
      "outputs": []
    },
    {
      "cell_type": "markdown",
      "source": [
        "## **e. Analisis Hasil Evaluasi Model Klasifikasi**"
      ],
      "metadata": {
        "id": "ZRsOdm4uEgAW"
      }
    },
    {
      "cell_type": "markdown",
      "source": [
        "Analisis Hasil Evaluasi Model Klasifikasi\n",
        "1. Identifikasi Kelemahan Model\n",
        "- Decision Tree (Accuracy: 97.68%):\n",
        "  - Kelas 0.0: Recall 0.96, ada 18 false negatives (ke kelas 1.0).\n",
        "  - Kelas 2.0: Recall 0.96, 6 instance salah jadi kelas 3.0.\n",
        "  - Lebih banyak kesalahan (46) di confusion matrix.\n",
        "- Random Forest (Accuracy: 98.18%):\n",
        "  - Kelas 0.0: Recall 0.98, 11 false negatives (ke kelas 1.0).\n",
        "  - Kelas 2.0: Recall 0.96, 7 salah ke 1.0, 5 ke 3.0.\n",
        "  - Kesalahan lebih sedikit (36), lebih robust.\n",
        "  - Kelemahan Umum: Recall rendah di kelas 0.0 dan 2.0, ada overlap antar kelas.\n",
        "\n",
        "2. Overfitting atau Underfitting?\n",
        "- Decision Tree: Akurasi tinggi, tak ada underfitting. Overfitting mungkin terjadi, perlu cek training vs testing.\n",
        "- Random Forest: Performa konsisten, minim underfitting. Overfitting kecil mungkin ada, verifikasi dengan cross-validation.\n",
        "- Kesimpulan: Tak ada underfitting, overfitting perlu dicek.\n",
        "\n",
        "3. Rekomendasi Tindakan\n",
        "Cek Overfitting: Pakai cross-validation, bandingkan training dan testing.\n",
        "Tingkatkan Recall: Tambah data kelas 0.0 dan 2.0, perbaiki fitur.\n",
        "Optimasi: Atur max_depth (Decision Tree) atau n_estimators (Random Forest).\n",
        "Coba Algoritma: Eksperimen dengan XGBoost atau SVM.\n",
        "Data Imbalance: Gunakan SMOTE jika kelas 2.0 bermasalah.\n"
      ],
      "metadata": {
        "id": "Hm3BhSi6N4_l"
      }
    }
  ]
}