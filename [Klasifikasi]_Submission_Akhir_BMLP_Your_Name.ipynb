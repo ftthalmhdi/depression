{
  "nbformat": 4,
  "nbformat_minor": 0,
  "metadata": {
    "colab": {
      "provenance": [],
      "gpuType": "V28"
    },
    "kernelspec": {
      "name": "python3",
      "display_name": "Python 3"
    },
    "language_info": {
      "name": "python"
    },
    "accelerator": "TPU"
  },
  "cells": [
    {
      "cell_type": "markdown",
      "source": [
        "# **1. Import Library**"
      ],
      "metadata": {
        "id": "fKADPWcFKlj3"
      }
    },
    {
      "cell_type": "markdown",
      "source": [
        "Pada tahap ini, Anda perlu mengimpor beberapa pustaka (library) Python yang dibutuhkan untuk analisis data dan pembangunan model machine learning."
      ],
      "metadata": {
        "id": "LgA3ERnVn84N"
      }
    },
    {
      "cell_type": "code",
      "source": [
        "import pandas as pd\n",
        "import numpy as np\n",
        "import matplotlib.pyplot as plt\n",
        "import seaborn as sns\n",
        "from sklearn.preprocessing import StandardScaler, LabelEncoder\n",
        "from sklearn.model_selection import train_test_split\n",
        "from sklearn.ensemble import RandomForestClassifier\n",
        "from sklearn.tree import DecisionTreeClassifier\n",
        "from sklearn.metrics import accuracy_score, classification_report, confusion_matrix\n",
        "from sklearn.model_selection import GridSearchCV"
      ],
      "metadata": {
        "id": "BlmvjLY9M4Yj"
      },
      "execution_count": 1,
      "outputs": []
    },
    {
      "cell_type": "markdown",
      "source": [
        "# **2. Memuat Dataset dari Hasil Clustering**"
      ],
      "metadata": {
        "id": "f3YIEnAFKrKL"
      }
    },
    {
      "cell_type": "markdown",
      "source": [
        "Memuat dataset hasil clustering dari file CSV ke dalam variabel DataFrame."
      ],
      "metadata": {
        "id": "Ey3ItwTen_7E"
      }
    },
    {
      "cell_type": "code",
      "source": [
        "#Type your code here\n",
        "data = pd.read_csv('https://raw.githubusercontent.com/ftthalmhdi/depression/refs/heads/main/Dataset_clustering.csv')"
      ],
      "metadata": {
        "id": "GHCGNTyrM5fS"
      },
      "execution_count": 2,
      "outputs": []
    },
    {
      "cell_type": "markdown",
      "source": [
        "# **3. Data Splitting**"
      ],
      "metadata": {
        "id": "KkPem5eWL2UP"
      }
    },
    {
      "cell_type": "markdown",
      "source": [
        "Tahap Data Splitting bertujuan untuk memisahkan dataset menjadi dua bagian: data latih (training set) dan data uji (test set)."
      ],
      "metadata": {
        "id": "YYj1rl_JNI9Y"
      }
    },
    {
      "cell_type": "code",
      "source": [
        "data.rename(columns=lambda x: x.strip(), inplace=True)"
      ],
      "metadata": {
        "id": "OubAW-7ONKVj"
      },
      "execution_count": 3,
      "outputs": []
    },
    {
      "cell_type": "code",
      "source": [
        "categorical_X = data.select_dtypes(include=object).columns\n",
        "le = LabelEncoder()\n",
        "\n",
        "for col in categorical_X:\n",
        "  data[col] = le.fit_transform(data[col])\n",
        "\n",
        "y = data['Cluster']\n",
        "X = data.drop(columns=['Cluster'])\n",
        "\n",
        "label_encoder = LabelEncoder()\n",
        "for column in categorical_X:\n",
        "    data[column] = label_encoder.fit_transform(data[column])\n",
        "\n",
        "X_train, X_test, y_train, y_test = train_test_split(X,y,test_size=0.2,random_state=42)"
      ],
      "metadata": {
        "id": "iuH9VKtgdnXX"
      },
      "execution_count": 4,
      "outputs": []
    },
    {
      "cell_type": "code",
      "source": [
        "scaler = StandardScaler()\n",
        "X_train_scaled = scaler.fit_transform(X_train)\n",
        "X_test_scaled = scaler.fit_transform(X_test)"
      ],
      "metadata": {
        "id": "wQ0VxvAPePaP"
      },
      "execution_count": 5,
      "outputs": []
    },
    {
      "cell_type": "markdown",
      "source": [
        "# **4. Membangun Model Klasifikasi**\n"
      ],
      "metadata": {
        "id": "IVPbB03CMhTT"
      }
    },
    {
      "cell_type": "markdown",
      "source": [
        "## **a. Membangun Model Klasifikasi**"
      ],
      "metadata": {
        "id": "Ned1pL9zMmBK"
      }
    },
    {
      "cell_type": "markdown",
      "source": [
        "Setelah memilih algoritma klasifikasi yang sesuai, langkah selanjutnya adalah melatih model menggunakan data latih.\n",
        "\n",
        "Berikut adalah rekomendasi tahapannya.\n",
        "1. Pilih algoritma klasifikasi yang sesuai, seperti Logistic Regression, Decision Tree, Random Forest, atau K-Nearest Neighbors (KNN).\n",
        "2. Latih model menggunakan data latih."
      ],
      "metadata": {
        "id": "WAWzPOE4Nkti"
      }
    },
    {
      "cell_type": "code",
      "source": [
        "models = {\n",
        "    'Decision_Tree': DecisionTreeClassifier(random_state=42),\n",
        "    'Random_Forest' : RandomForestClassifier(random_state=42)\n",
        "}"
      ],
      "metadata": {
        "id": "4JYxBe87NLDk"
      },
      "execution_count": 6,
      "outputs": []
    },
    {
      "cell_type": "markdown",
      "source": [
        "- Decision Tree adalah algoritma machine learning yang digunakan untuk tugas klasifikasi dan regresi. Algoritma ini memiliki struktur menyerupai pohon, di mana setiap cabang merepresentasikan aturan atau keputusan berdasarkan fitur dalam data.\n",
        "- Random Forest adalah metode ensemble learning yang mengombinasikan banyak Decision Tree untuk meningkatkan akurasi prediksi sekaligus mengurangi kemungkinan overfitting. Setiap pohon dalam Random Forest dilatih menggunakan sampel acak dari data serta subset fitur yang dipilih secara acak. Prediksi akhir ditentukan melalui mekanisme voting (untuk klasifikasi) atau rata-rata (untuk regresi) dari seluruh pohon dalam model.\n"
      ],
      "metadata": {
        "id": "seYoHNY3XU1y"
      }
    },
    {
      "cell_type": "markdown",
      "source": [
        "## **b. Evaluasi Model Klasifikasi**"
      ],
      "metadata": {
        "id": "ergzChZFEL-O"
      }
    },
    {
      "cell_type": "markdown",
      "source": [
        "Berikut adalah **rekomendasi** tahapannya.\n",
        "1. Lakukan prediksi menggunakan data uji.\n",
        "2. Hitung metrik evaluasi seperti Accuracy dan F1-Score (Opsional: Precision dan Recall).\n",
        "3. Buat confusion matrix untuk melihat detail prediksi benar dan salah."
      ],
      "metadata": {
        "id": "zOm68u-7NpLT"
      }
    },
    {
      "cell_type": "code",
      "source": [
        "for name, model in models.items():\n",
        "    model.fit(X_train_scaled, y_train)\n",
        "    y_pred = model.predict(X_test_scaled)\n",
        "    print(f\"\\n{name} Model Performance:\")\n",
        "    print(\"Accuracy:\", accuracy_score(y_test, y_pred))\n",
        "    print(\"Classification Report:\\n\", classification_report(y_test, y_pred))\n",
        "    print(\"Confusion Matrix:\\n\", confusion_matrix(y_test, y_pred))"
      ],
      "metadata": {
        "id": "tMq4QAssNLip",
        "outputId": "2b5e5757-791d-49fb-e7d7-2a33a8ac3739",
        "colab": {
          "base_uri": "https://localhost:8080/"
        }
      },
      "execution_count": 7,
      "outputs": [
        {
          "output_type": "stream",
          "name": "stdout",
          "text": [
            "\n",
            "Decision_Tree Model Performance:\n",
            "Accuracy: 0.9768028240040343\n",
            "Classification Report:\n",
            "               precision    recall  f1-score   support\n",
            "\n",
            "         0.0       0.99      0.96      0.97       491\n",
            "         1.0       0.97      0.98      0.98       692\n",
            "         2.0       0.97      0.96      0.97       320\n",
            "         3.0       0.98      0.99      0.99       480\n",
            "\n",
            "    accuracy                           0.98      1983\n",
            "   macro avg       0.98      0.97      0.98      1983\n",
            "weighted avg       0.98      0.98      0.98      1983\n",
            "\n",
            "Confusion Matrix:\n",
            " [[472  18   1   0]\n",
            " [  4 681   5   2]\n",
            " [  3   4 307   6]\n",
            " [  0   0   3 477]]\n",
            "\n",
            "Random_Forest Model Performance:\n",
            "Accuracy: 0.9818456883509834\n",
            "Classification Report:\n",
            "               precision    recall  f1-score   support\n",
            "\n",
            "         0.0       1.00      0.98      0.99       491\n",
            "         1.0       0.97      0.98      0.98       692\n",
            "         2.0       0.99      0.96      0.98       320\n",
            "         3.0       0.97      1.00      0.98       480\n",
            "\n",
            "    accuracy                           0.98      1983\n",
            "   macro avg       0.98      0.98      0.98      1983\n",
            "weighted avg       0.98      0.98      0.98      1983\n",
            "\n",
            "Confusion Matrix:\n",
            " [[480  11   0   0]\n",
            " [  0 681   3   8]\n",
            " [  0   7 308   5]\n",
            " [  0   2   0 478]]\n"
          ]
        }
      ]
    },
    {
      "cell_type": "markdown",
      "source": [
        "## Decision Tree Performance\n",
        "- Accuracy: 0.9768 (97.68%)\n",
        "- Precision, Recall, F1-Score: Semua metrik berada di atas 0.96,menunjukkan performa yang sangat baik dalam memprediksi setiap kelas.\n",
        "- Confusion Matrix: Hanya terjadi beberapa kesalahan klasifikasi, dengan sebagian besar prediksi sesuai dengan kelas aslinya.\n",
        "\n",
        "## Random Forest Performance\n",
        "- Accuracy: 0.9818 (98.18%)\n",
        "Precision, Recall, F1-Score: Semua metrik di atas 0.97, sedikit lebih baik dibandingkan Decision Tree.\n",
        "- Confusion Matrix: Kesalahan klasifikasi lebih sedikit dibandingkan - Decision Tree, menunjukkan bahwa model ini lebih stabil dalam memprediksi kelas yang benar.\n",
        "\n",
        "### Kesimpulan\n",
        "Random Forest memiliki performa yang lebih baik dibandingkan Decision Tree, dengan akurasi dan metrik evaluasi yang lebih tinggi.Model memiliki potensi overfitting, karena tingkat akurasi yang sangat tinggi di data uji. Hal ini bisa terjadi karena model terlalu kompleks atau data latih dan uji memiliki pola yang sangat mirip.    Untuk menghindari overfitting, beberapa langkah yang dapat dilakukan:\n",
        "Tuning hyperparameter seperti jumlah pohon dalam Random Forest atau kedalaman maksimal Decision Tree.\n",
        "Menggunakan teknik validasi silang (cross-validation) untuk memastikan model tetap generalizable terhadap data baru.\n",
        "Menambah data atau melakukan augmentasi data untuk meningkatkan keberagaman dalam pelatihan model.\n",
        "\n",
        "Secara keseluruhan, Random Forest lebih unggul dibandingkan Decision Tree dalam hal akurasi dan stabilitas, namun perlu diperhatikan kemungkinan overfitting."
      ],
      "metadata": {
        "id": "H4_9OwrsXZlz"
      }
    },
    {
      "cell_type": "markdown",
      "source": [
        "## **c. Tuning Model Klasifikasi (Optional)**"
      ],
      "metadata": {
        "id": "ph9yIYDXEPuB"
      }
    },
    {
      "cell_type": "markdown",
      "source": [
        "Gunakan GridSearchCV, RandomizedSearchCV, atau metode lainnya untuk mencari kombinasi hyperparameter terbaik"
      ],
      "metadata": {
        "id": "-Bikx3LINv5e"
      }
    },
    {
      "cell_type": "code",
      "source": [
        "#Type your code here"
      ],
      "metadata": {
        "id": "winbFzb8NL95"
      },
      "execution_count": 8,
      "outputs": []
    },
    {
      "cell_type": "markdown",
      "source": [
        "## **d. Evaluasi Model Klasifikasi setelah Tuning (Optional)**"
      ],
      "metadata": {
        "id": "hE7pqlEPEYzI"
      }
    },
    {
      "cell_type": "markdown",
      "source": [
        "Berikut adalah rekomendasi tahapannya.\n",
        "1. Gunakan model dengan hyperparameter terbaik.\n",
        "2. Hitung ulang metrik evaluasi untuk melihat apakah ada peningkatan performa."
      ],
      "metadata": {
        "id": "feaPESoeN0zz"
      }
    },
    {
      "cell_type": "code",
      "source": [
        "#Type your code here"
      ],
      "metadata": {
        "id": "HTXZRvEeNMb1"
      },
      "execution_count": 9,
      "outputs": []
    },
    {
      "cell_type": "markdown",
      "source": [
        "## **e. Analisis Hasil Evaluasi Model Klasifikasi**"
      ],
      "metadata": {
        "id": "ZRsOdm4uEgAW"
      }
    },
    {
      "cell_type": "markdown",
      "source": [
        "Analisis Kinerja Model Decision Tree & Random Forest\n",
        "\n",
        "1. Evaluasi Model\n",
        "\n",
        "Decision Tree Performance\n",
        "\n",
        "Accuracy: 97.68%\n",
        "\n",
        "Classification Report:\n",
        "\n",
        "Precision, Recall, F1-Score untuk semua kelas di atas 0.96.\n",
        "\n",
        "Confusion Matrix:\n",
        "\n",
        "Beberapa kesalahan klasifikasi terjadi, khususnya pada kelas 0 dan 2.\n",
        "\n",
        "Random Forest Performance\n",
        "\n",
        "Accuracy: 98.18%\n",
        "\n",
        "Classification Report:\n",
        "\n",
        "Precision, Recall, F1-Score tetap tinggi di semua kelas.\n",
        "\n",
        "Confusion Matrix:\n",
        "\n",
        "Performa lebih stabil dibandingkan Decision Tree dengan sedikit kesalahan klasifikasi.\n",
        "\n",
        "2. Identifikasi Kelemahan Model\n",
        "\n",
        "1. Precision atau Recall Rendah untuk Kelas Tertentu\n",
        "\n",
        "Model masih mengalami beberapa kesalahan klasifikasi:\n",
        "\n",
        "Decision Tree:\n",
        "\n",
        "Kelas 0: 18 data salah klasifikasi.\n",
        "\n",
        "Kelas 2: 13 data salah klasifikasi.\n",
        "\n",
        "Random Forest:\n",
        "\n",
        "Kelas 1: 11 data salah klasifikasi.\n",
        "\n",
        "Kelas 2: 12 data salah klasifikasi.\n",
        "\n",
        "2. Potensi Overfitting atau Underfitting\n",
        "\n",
        "Kemungkinan Overfitting:\n",
        "\n",
        "Akurasi tinggi bisa menjadi indikasi bahwa model terlalu menyesuaikan dengan data latih dan kurang generalisasi ke data baru.\n",
        "\n",
        "Random Forest lebih tahan terhadap overfitting dibandingkan Decision Tree, tetapi tetap perlu dioptimalkan lebih lanjut.\n",
        "\n",
        "Tidak Mengalami Underfitting:\n",
        "\n",
        "Model tidak menunjukkan ciri-ciri underfitting karena akurasinya tinggi di data uji.\n",
        "\n",
        "3. Rekomendasi Tindakan Lanjutan\n",
        "\n",
        "1. Mencegah Overfitting\n",
        "\n",
        "Gunakan validasi silang (cross-validation) untuk memastikan model bekerja baik di berbagai subset data.\n",
        "\n",
        "Batasi kedalaman maksimum Decision Tree atau jumlah fitur di Random Forest untuk mencegah model terlalu kompleks.\n",
        "\n",
        "Gunakan pruning pada Decision Tree atau kurangi jumlah estimator pada Random Forest untuk menghindari overfitting.\n",
        "\n",
        "2. Meningkatkan Performa Kelas dengan Kesalahan Klasifikasi\n",
        "\n",
        "Coba metode balancing data seperti SMOTE jika ada kelas yang kurang terwakili.\n",
        "\n",
        "Eksplorasi fitur engineering untuk mengekstrak informasi lebih banyak dari dataset.\n",
        "\n",
        "3. Eksperimen dengan Algoritma Lain\n",
        "\n",
        "XGBoost atau LightGBM: Dapat memberikan performa lebih tinggi dibandingkan Random Forest.\n",
        "\n",
        "Neural Network: Cocok jika dataset bertambah besar dan ingin mengeksplorasi model yang lebih kompleks.\n",
        "\n",
        "4. Mengumpulkan Data Tambahan\n",
        "\n",
        "Jika dataset belum cukup representatif, tambahkan lebih banyak data atau cari fitur tambahan yang dapat meningkatkan akurasi model."
      ],
      "metadata": {
        "id": "Hm3BhSi6N4_l"
      }
    }
  ]
}